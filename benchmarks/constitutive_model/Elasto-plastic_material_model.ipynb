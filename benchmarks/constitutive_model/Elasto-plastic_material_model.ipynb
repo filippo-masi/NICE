{
 "cells": [
  {
   "cell_type": "markdown",
   "id": "43e03403",
   "metadata": {},
   "source": [
    "## 1. Import libraries"
   ]
  },
  {
   "cell_type": "code",
   "execution_count": 1,
   "id": "b307f6bd",
   "metadata": {},
   "outputs": [],
   "source": [
    "import pickle\n",
    "import numpy as np\n",
    "from scipy.integrate import solve_ivp\n",
    "from scipy.optimize import fsolve\n",
    "from scipy.optimize import minimize\n",
    "import matplotlib\n",
    "import matplotlib.pyplot as plt\n",
    "plt.style.use('classic')"
   ]
  },
  {
   "cell_type": "markdown",
   "id": "2b4ca92e",
   "metadata": {},
   "source": [
    "## 2. Constitutive model\n",
    "\n",
    "The first example concerns an incrementally nonlinear elasto-plastic, non-associative, Drucker-Prager material, with constant density. The specific internal energy is defined as\n",
    "\n",
    "\\begin{equation}\n",
    "\\widehat{u}(\\boldsymbol{\\varepsilon^e}) = \\dfrac{1}{2}K{\\varepsilon_v^e}^2+\\dfrac{3}{2}G{\\varepsilon^e_s}^2,\n",
    "\\end{equation}\n",
    "\n",
    "where $\\varepsilon_v^e=\\boldsymbol{1}: \\boldsymbol{\\varepsilon}^e$ is the volumetric invariant of the strain tensor and ${\\varepsilon_s^e = \\sqrt{\\frac{2}{3}\\;{\\boldsymbol{\\varepsilon}^e}^{\\prime}\\hspace{-3pt}:{\\boldsymbol{\\varepsilon}^e}^{\\prime}}}$ is the invariant of the deviatoric strain tensor,  where ${\\boldsymbol{\\varepsilon}^e}^{\\prime} = \\boldsymbol{\\varepsilon}^e-\\frac{\\varepsilon^e_v}{3}\\boldsymbol{1}$. We select $K=70$ GPa, $G=60$ GPa, friction coefficient equal to one, seismic parameter equal to one, and dilatancy parameter equal to one half.\n",
    "\n",
    "For more details, see:\n",
    "\n",
    "I Einav. The unification of hypo-plastic and elasto-plastic theories. *International Journal of Solids and Structures*, 49(11-12):1305–1315, 2012. doi: 10.1016/j.ijsolstr.2012.02.003.).\n"
   ]
  },
  {
   "cell_type": "markdown",
   "id": "a8872369",
   "metadata": {},
   "source": [
    "### 2.1 Define constitutive and evolution equations"
   ]
  },
  {
   "cell_type": "code",
   "execution_count": 2,
   "id": "e2e33e76",
   "metadata": {},
   "outputs": [],
   "source": [
    "def elastic_energy(eev, ees):\n",
    "    return 0.5*K*eev**2+3/2*G*ees**2\n",
    "\n",
    "def Stress(eev, ees):\n",
    "    p = K*eev\n",
    "    q = 3*G*ees\n",
    "    return p,q\n",
    "\n",
    "def find_strain(e, sigma):\n",
    "    eev,ees = e[0],e[1]\n",
    "    p,q = Stress(eev, ees)\n",
    "    return np.hstack((p-sigma[0],q-sigma[1]))\n",
    "\n",
    "def macaulay(x):\n",
    "    if x<0: return 0.\n",
    "    else: return x"
   ]
  },
  {
   "cell_type": "markdown",
   "id": "2ed9bf94",
   "metadata": {},
   "source": [
    "### 2.2 Define initial value problem for strain- and stress-driven loading path"
   ]
  },
  {
   "cell_type": "code",
   "execution_count": 3,
   "id": "ac1e763d",
   "metadata": {},
   "outputs": [],
   "source": [
    "def evol_state(t,statet,dot_e):\n",
    "    ''' Strain-controlled loading path '''\n",
    "    ee = statet[:2]\n",
    "    ep = statet[2:4]\n",
    "    st = statet[4:6]\n",
    "    p = K*ee[0]\n",
    "    q = 3*G*ee[1]\n",
    "        \n",
    "    if statet[-1]<0.: dot_e[1]=0.\n",
    "    if statet[-2]<0.: dot_e[0]=0.\n",
    "    dot_ev,dot_es = dot_e[0],dot_e[1]\n",
    "\n",
    "    dot_eps_st = (dot_es-m*K/(3*G)*dot_ev)/(1+b*K/(3*G))\n",
    "    \n",
    "    dot_epv = -b*(q/(m*p))**(s+1)*macaulay(dot_eps_st)\n",
    "    dot_eps = (q/(m*p))**(s)*macaulay(dot_eps_st)\n",
    "\n",
    "    \n",
    "    dot_eev = dot_ev-dot_epv\n",
    "    dot_ees = dot_es-dot_eps\n",
    "    dot_p = K*dot_eev\n",
    "    dot_q = 3*G*dot_ees\n",
    "    return np.hstack((np.hstack((dot_eev,dot_ees)),\n",
    "                      np.hstack((dot_epv,dot_eps)),\n",
    "                      np.hstack((dot_p,dot_q)),\n",
    "                      dot_e))\n",
    "    \n",
    "def evol_state_stress(t,statet,dot,c):\n",
    "    ''' Stress-controlled loading path '''\n",
    "    ee = statet[:2]\n",
    "    ep = statet[2:4]\n",
    "    st = statet[4:6]\n",
    "    p = K*ee[0]\n",
    "    q = 3*G*ee[1]\n",
    "    dot_e3 = fsolve(fsolve_evol_state, args=(dot[0],statet,c),x0=[dot[0]/10])\n",
    "    dot_ev = dot[0]+2*dot_e3\n",
    "    dot_es = (np.sqrt(2/3)*(dot[0]-dot_e3))\n",
    "    dot_e = np.hstack((dot_ev,dot_es))\n",
    "    \n",
    "    dot_eps_st = (dot_es-m*K/(3*G)*dot_ev)/(1+b*K/(3*G))\n",
    "    \n",
    "    dot_epv = -b*(q/(m*p))**(s+1)*macaulay(dot_eps_st)\n",
    "    dot_eps = (q/(m*p))**(s)*macaulay(dot_eps_st)\n",
    "\n",
    "    \n",
    "    dot_eev = dot_ev-dot_epv\n",
    "    dot_ees = dot_es-dot_eps\n",
    "    dot_p = K*dot_eev\n",
    "    dot_q = 3*G*dot_ees\n",
    "\n",
    "    return np.hstack((np.hstack((dot_eev,dot_ees)),\n",
    "                      np.hstack((dot_epv,dot_eps)),\n",
    "                      np.hstack((dot_p,(dot_q))),\n",
    "                      dot_e))\n",
    "\n",
    "def fsolve_evol_state(dot_e3,dot_e1_target,statet,c):\n",
    "    ''' Find strain-increments to satisfy stress-controlled loading path '''\n",
    "    ee = statet[:2]\n",
    "    ep = statet[2:4]\n",
    "    st = statet[4:6]\n",
    "    p = K*ee[0]\n",
    "    q = 3*G*ee[1]\n",
    "    \n",
    "    dot_ev = dot_e1_target+2*dot_e3\n",
    "    dot_es = np.sqrt(2/3)*(dot_e1_target-dot_e3)\n",
    "    \n",
    "    dot_eps_st = (dot_es-m*K/(3*G)*dot_ev)/(1+b*K/(3*G))\n",
    "    \n",
    "    dot_epv = -b*(q/(m*p))**(s+1)*macaulay(dot_eps_st)\n",
    "    dot_eps = (q/(m*p))**(s)*macaulay(dot_eps_st)\n",
    "\n",
    "    \n",
    "    dot_eev = dot_ev-dot_epv\n",
    "    dot_ees = dot_es-dot_eps\n",
    "    dot_p = K*dot_eev\n",
    "    dot_q = 3*G*dot_ees\n",
    "    return np.abs(dot_p-c*dot_q)"
   ]
  },
  {
   "cell_type": "markdown",
   "id": "e6d0b838",
   "metadata": {},
   "source": [
    "### 2.3 Solution of the initial value problem"
   ]
  },
  {
   "cell_type": "code",
   "execution_count": 4,
   "id": "3f86adf8",
   "metadata": {},
   "outputs": [],
   "source": [
    "def solve(state_t,deps,dt):\n",
    "    ''' Strain-controlled IVP '''\n",
    "    eps_dot = deps/dt\n",
    "    sol = solve_ivp(evol_state,\n",
    "                args=[eps_dot],\n",
    "                    t_span=[0.,dt],\n",
    "                    t_eval=[dt],\n",
    "                    y0=state_t,\n",
    "                    vectorized=False,\n",
    "                    atol = 1.e-6,\n",
    "                    rtol = 1e-5,\n",
    "                    method='RK45')\n",
    "    sol = sol.y[:,-1]\n",
    "    return sol\n",
    "\n",
    "def solve_stress(state_t,dsigma,dt,c):\n",
    "    ''' Stress-controlled IVP '''\n",
    "    sigma_dot = dsigma/dt\n",
    "    sol = solve_ivp(evol_state_stress,\n",
    "                args=[sigma_dot,c],\n",
    "                    t_span=[0.,dt],\n",
    "                    t_eval=[dt],\n",
    "                    y0=state_t,\n",
    "                    vectorized=False,\n",
    "                    atol = 1.e-8,\n",
    "                    rtol = 1e-7,\n",
    "                    method='RK23')\n",
    "    sol = sol.y[:,-1]\n",
    "    return sol"
   ]
  },
  {
   "cell_type": "markdown",
   "id": "6067ce51",
   "metadata": {},
   "source": [
    "### 2.4 Material parameters"
   ]
  },
  {
   "cell_type": "code",
   "execution_count": 5,
   "id": "8d421d3a",
   "metadata": {},
   "outputs": [],
   "source": [
    "K = 70.e+6\n",
    "G = 60.e+6\n",
    "m = 1.\n",
    "b = 0.5*m\n",
    "s = 1"
   ]
  },
  {
   "cell_type": "markdown",
   "id": "3e4dbc7c",
   "metadata": {},
   "source": [
    "## 3. Loading paths\n",
    "\n",
    "We generate data by applying single loading-unloading paths, with constant strain rate, and integrating in time the evolution equation for the elastic strain rate (using Eq. (8.15) in Einav, 2012) to compute the evolution of stress according to the energy function. The material stress is here identified in terms of its volumetric and deviatoric parts:\n",
    "\n",
    "$p=\\boldsymbol{1}:\\frac{\\boldsymbol{\\sigma}}{3}$ and $\\smash{q = \\sqrt{{\\frac{3}{2}}\\;\\boldsymbol{\\sigma}^{\\prime}\\hspace{-3pt}:\\boldsymbol{\\sigma}^{\\prime}}}$, with $\\boldsymbol{\\sigma}^{\\prime} = \\boldsymbol{\\sigma}-p\\boldsymbol{1}$.\n",
    "\n",
    "From an initial unstressed configuration, the material is first subjected to isotropic compression to generate states at different confining pressures, $p\\in [200, 2200]$ kPa. This then represents the initial configuration for subsequent numerical experiments composed of the following loading paths: isotropic compression/extension, undrained compression, and drained triaxial compression/extension. Each path is composed of $N=40$ measurements of the stress values."
   ]
  },
  {
   "cell_type": "markdown",
   "id": "3b891abb",
   "metadata": {},
   "source": [
    "### 3.1 Drained triaxial\n",
    "\n",
    "- $c=0$ at constrant pressure\n",
    "- $c=1/3$ compression\n",
    "- $c=-1/3$ extension"
   ]
  },
  {
   "cell_type": "code",
   "execution_count": 6,
   "id": "adf71c7b",
   "metadata": {
    "scrolled": true
   },
   "outputs": [
    {
     "name": "stderr",
     "output_type": "stream",
     "text": [
      "/home/fil/anaconda3/lib/python3.9/site-packages/scipy/optimize/_minpack_py.py:177: RuntimeWarning: The iteration is not making good progress, as measured by the \n",
      "  improvement from the last ten iterations.\n",
      "  warnings.warn(msg, RuntimeWarning)\n"
     ]
    }
   ],
   "source": [
    "# Control variable\n",
    "c = 0\n",
    "\n",
    "pp = np.arange(200,2500,400) # confining pressure values\n",
    "N = pp.shape[0]\n",
    "\n",
    "n_reset = 40 # number of increments before resetting\n",
    "increments = N*n_reset # number of increments\n",
    "d=1\n",
    "\n",
    "mod= 10e-7\n",
    "id_de = 0\n",
    "subincrements = 20\n",
    "sub = increments//subincrements\n",
    "deps_inc_sub = np.zeros((sub,2))\n",
    "deps_inc_sub[:,id_de]= mod*np.random.choice(np.array([1.,1]),sub)\n",
    "delta = np.zeros((increments,2))\n",
    "for i in np.arange(0,increments//subincrements,1):\n",
    "    k = i*subincrements\n",
    "    for j in range(subincrements):\n",
    "        delta[k+j] = deps_inc_sub[i]\n",
    "        \n",
    "dt=1.0\n",
    "state_t = np.zeros((increments+1,8))\n",
    "state_rst = np.zeros((N,8))\n",
    "\n",
    "sub = 30\n",
    "for i in range(increments):\n",
    "    if not i % n_reset:\n",
    "        delta[i:i+sub,0]=np.abs(delta[i:i+sub,0])\n",
    "        delta[i+sub:,0]=-np.abs(delta[i+sub:,0])\n",
    "        p_0 = pp[i//n_reset]\n",
    "        q_0 = 0.\n",
    "        e_0 = fsolve(find_strain, args=(np.hstack((p_0,q_0))),x0=np.zeros((2)))\n",
    "        state_t0 = np.hstack((e_0,np.zeros((2)),np.hstack((p_0,q_0)),e_0))\n",
    "        state_t = state_t0.copy()\n",
    "        state_rst[i//n_reset] = state_t0.copy()\n",
    "    \n",
    "    state_t_ = solve_stress(state_t,delta[i],dt,c)\n",
    "    if state_t_[-3]<0.0:\n",
    "        delta[i:i+subincrements-i%subincrements,0]=0*np.abs(delta[i:i+subincrements-i%subincrements,0])\n",
    "        state_t_ = solve_stress(state_t,delta[i],dt,c)\n",
    "    state_t = state_t_.copy()\n",
    "    if i == 0:\n",
    "        state_t_hist = np.array([state_t.copy()])\n",
    "    else:\n",
    "        state_t_hist = np.append(state_t_hist, np.array([state_t]), axis=0) "
   ]
  },
  {
   "cell_type": "markdown",
   "id": "5fcab934",
   "metadata": {},
   "source": [
    "### 3.2 Isotropic compression-extension"
   ]
  },
  {
   "cell_type": "code",
   "execution_count": 7,
   "id": "ad49f5fe",
   "metadata": {},
   "outputs": [],
   "source": [
    "pp = np.arange(200,2500,400) # confining pressure values\n",
    "N = pp.shape[0]\n",
    "\n",
    "n_reset = 40 # number of increments before resetting\n",
    "increments = N*n_reset # number of increments\n",
    "d=1\n",
    "\n",
    "mod= 10e-7\n",
    "id_de = 0\n",
    "subincrements = 20\n",
    "sub = increments//subincrements\n",
    "deps_inc_sub = np.zeros((sub,2))\n",
    "deps_inc_sub[:,id_de]= mod*np.random.choice(np.array([1,1]),sub)\n",
    "delta = np.zeros((increments,2))\n",
    "for i in np.arange(0,increments//subincrements,1):\n",
    "    k = i*subincrements\n",
    "    for j in range(subincrements):\n",
    "        delta[k+j] = deps_inc_sub[i]\n",
    "dt=1.0\n",
    "state_t = np.zeros((increments+1,8))\n",
    "state_rst = np.zeros((N,8))\n",
    "\n",
    "sub = 30\n",
    "for i in range(increments):\n",
    "    if not i % n_reset:\n",
    "        delta[i:i+sub]=np.abs(delta[i:i+sub])\n",
    "        delta[i+sub:]=-np.abs(delta[i+sub:])\n",
    "        p_0 = pp[i//n_reset]\n",
    "        q_0 = 0.\n",
    "        e_0 = fsolve(find_strain, args=(np.hstack((p_0,q_0))),x0=np.zeros((2)))\n",
    "        state_t0 = np.hstack((e_0,np.zeros((2)),np.hstack((p_0,q_0)),e_0))\n",
    "        state_t = state_t0.copy()\n",
    "        state_rst[i//n_reset] = state_t0.copy()\n",
    "\n",
    "    state_t_ = solve(state_t,delta[i],dt)\n",
    "    if state_t_[-4]<0.0:\n",
    "        delta[i:i+subincrements-i%subincrements,0]=0*np.abs(delta[i:i+subincrements-i%subincrements,0])\n",
    "        state_t_ = solve(state_t,delta[i],dt)        \n",
    "    if state_t_[-4]>3000.0:\n",
    "        delta[i:i+subincrements-i%subincrements,0]=-np.abs(delta[i:i+subincrements-i%subincrements,0])\n",
    "        state_t_ = solve(state_t,delta[i],dt)\n",
    "    state_t = state_t_.copy()\n",
    "    if i == 0:\n",
    "        state_t_hist = np.array([state_t.copy()])\n",
    "    else:\n",
    "        state_t_hist = np.append(state_t_hist, np.array([state_t]), axis=0) "
   ]
  },
  {
   "cell_type": "markdown",
   "id": "c4fb8727",
   "metadata": {},
   "source": [
    "### 3.3 Undrained triaxial compression-extension"
   ]
  },
  {
   "cell_type": "code",
   "execution_count": 8,
   "id": "00ea0b7b",
   "metadata": {
    "scrolled": true
   },
   "outputs": [],
   "source": [
    "pp = np.arange(200,2500,400) # confining pressure values\n",
    "N = pp.shape[0]\n",
    "n_reset = 40 # number of increments before resetting\n",
    "increments = N*n_reset # number of increments\n",
    "d=1\n",
    "\n",
    "\n",
    "mod= 10e-7\n",
    "id_de = 1\n",
    "subincrements = 20\n",
    "sub = increments//subincrements\n",
    "deps_inc_sub = np.zeros((sub,2))\n",
    "deps_inc_sub[:,id_de]= mod*np.random.choice(np.array([1,1]),sub)\n",
    "delta = np.zeros((increments,2))\n",
    "for i in np.arange(0,increments//subincrements,1):\n",
    "    if not i%2:\n",
    "        deps_inc_sub[i] = np.abs(deps_inc_sub[i])\n",
    "    else:\n",
    "        deps_inc_sub[i] = -np.abs(deps_inc_sub[i])\n",
    "    k = i*subincrements\n",
    "    for j in range(subincrements):\n",
    "        delta[k+j] = deps_inc_sub[i]\n",
    "        \n",
    "dt=1.0\n",
    "state_t = np.zeros((increments+1,8))\n",
    "state_rst = np.zeros((N,8))\n",
    "\n",
    "sub = 25\n",
    "for i in range(increments):\n",
    "    if not i % n_reset:\n",
    "        delta[i:i+sub]=np.abs(delta[i:i+sub])\n",
    "        delta[i+sub:]=-np.abs(delta[i+sub:])\n",
    "        p_0 = pp[i//n_reset]\n",
    "        q_0 = 0.\n",
    "        e_0 = fsolve(find_strain, args=(np.hstack((p_0,q_0))),x0=np.zeros((2)))\n",
    "        state_t0 = np.hstack((e_0,np.zeros((2)),np.hstack((p_0,q_0)),e_0))\n",
    "        state_t = state_t0.copy()\n",
    "        state_rst[i//n_reset] = state_t0.copy()\n",
    "\n",
    "    state_t_ = solve(state_t,delta[i],dt)\n",
    "    if state_t_[-3]<0.0:\n",
    "        delta[i:i+subincrements-i%subincrements]=0*np.abs(delta[i:i+subincrements-i%subincrements])\n",
    "        state_t_ = solve(state_t,delta[i],dt)\n",
    "    state_t = state_t_.copy()\n",
    "    if i == 0:\n",
    "        state_t_hist = np.array([state_t.copy()])\n",
    "    else:\n",
    "        state_t_hist = np.append(state_t_hist, np.array([state_t]), axis=0) "
   ]
  },
  {
   "cell_type": "markdown",
   "id": "41948f32",
   "metadata": {},
   "source": [
    "## 4. Define and store state evolution"
   ]
  },
  {
   "cell_type": "code",
   "execution_count": 9,
   "id": "3e3b7ad3",
   "metadata": {},
   "outputs": [],
   "source": [
    "svars_t=np.array([state_t_hist[i-1] for i in range(0,increments)])\n",
    "for i in np.arange(0,len(svars_t),n_reset):\n",
    "    svars_t[i]= state_rst[i//n_reset]"
   ]
  },
  {
   "cell_type": "code",
   "execution_count": 10,
   "id": "b58e5549",
   "metadata": {},
   "outputs": [],
   "source": [
    "eev_tdt,ees_tdt = state_t_hist[:,0],state_t_hist[:,1]\n",
    "epv_tdt,eps_tdt = state_t_hist[:,2],state_t_hist[:,3]\n",
    "p_tdt,q_tdt = state_t_hist[:,4],state_t_hist[:,5]\n",
    "ev_tdt,es_tdt = state_t_hist[:,6],state_t_hist[:,7]\n",
    "\n",
    "eev_t,ees_t = svars_t[:,0],svars_t[:,1]\n",
    "epv_t,eps_t = svars_t[:,2],svars_t[:,3]\n",
    "p_t,q_t = svars_t[:,4],svars_t[:,5]\n",
    "ev_t,es_t = svars_t[:,6],svars_t[:,7]"
   ]
  },
  {
   "cell_type": "code",
   "execution_count": 11,
   "id": "6c977c40",
   "metadata": {},
   "outputs": [],
   "source": [
    "dev,des = ev_tdt-ev_t,es_tdt-es_t\n",
    "depv,deps = epv_tdt-epv_t,eps_tdt-eps_t\n",
    "\n",
    "dev /=dt\n",
    "des /=dt\n",
    "depv /=dt\n",
    "deps /=dt"
   ]
  },
  {
   "cell_type": "code",
   "execution_count": 12,
   "id": "a01b2295",
   "metadata": {},
   "outputs": [],
   "source": [
    "en_t = elastic_energy(eev_t,ees_t)\n",
    "en_tdt = elastic_energy(eev_tdt,ees_tdt)\n",
    "\n",
    "stress_t = np.vstack((p_t,q_t)).T\n",
    "strain_t = np.vstack((ev_t,es_t)).T\n",
    "svars_p_t = np.vstack((epv_t,eps_t)).T\n",
    "svars_e_t = np.vstack((eev_t,ees_t)).T\n",
    "\n",
    "stress_tdt = np.vstack((p_tdt,q_tdt)).T\n",
    "strain_tdt = np.vstack((ev_tdt,es_tdt)).T\n",
    "svars_p_tdt = np.vstack((epv_tdt,eps_tdt)).T\n",
    "svars_e_tdt = np.vstack((eev_tdt,ees_tdt)).T"
   ]
  },
  {
   "cell_type": "code",
   "execution_count": 13,
   "id": "828e50a7",
   "metadata": {},
   "outputs": [
    {
     "data": {
      "image/png": "[encoded data removed]",
      "text/plain": [
       "<Figure size 300x200 with 1 Axes>"
      ]
     },
     "metadata": {},
     "output_type": "display_data"
    }
   ],
   "source": [
    "fig = plt.figure(dpi=100, figsize=(3,2.), tight_layout=True)\n",
    "ax = fig.subplots(1)\n",
    "ax.plot(p_t/1e+3,q_t/1e+3,'o',color='black',alpha=1,markersize=3,linewidth=0,linestyle='-',)\n",
    "ax.set_ylabel('$q$ (MPa)',fontsize=\"11\")\n",
    "ax.set_xlabel('$p$ (MPa)',fontsize=\"11\")\n",
    "ax.grid()\n",
    "ax.plot(0,0)\n",
    "fig.patch.set_facecolor('white')"
   ]
  },
  {
   "cell_type": "code",
   "execution_count": 16,
   "id": "9302428d",
   "metadata": {},
   "outputs": [
    {
     "data": {
      "image/png": "[encoded data removed]",
      "text/plain": [
       "<Figure size 300x200 with 1 Axes>"
      ]
     },
     "metadata": {},
     "output_type": "display_data"
    }
   ],
   "source": [
    "fig = plt.figure(dpi=100, figsize=(3,2), tight_layout=True)\n",
    "ax = fig.subplots(1)\n",
    "ax.plot(es_t*1e+5,q_t/1e+3,'o',color='black',alpha=1,markersize=3,linewidth=0,linestyle='-',)\n",
    "ax.set_ylabel('$q$ (MPa)',fontsize=\"11\")\n",
    "ax.set_xlabel('$\\\\varepsilon_s$ (%)',fontsize=\"11\")\n",
    "ax.grid()\n",
    "fig.patch.set_facecolor('white')"
   ]
  },
  {
   "cell_type": "code",
   "execution_count": 15,
   "id": "845d8317",
   "metadata": {},
   "outputs": [],
   "source": [
    "data = [stress_t,strain_t,svars_e_t,svars_p_t,\n",
    "        stress_tdt,strain_tdt,svars_e_tdt,svars_p_tdt,en_tdt,dt,n_reset]\n",
    "with open('./MAT1_loading_path', 'wb') as f_obj:\n",
    "     pickle.dump(data, f_obj)"
   ]
  }
 ],
 "metadata": {
  "kernelspec": {
   "display_name": "Python 3 (ipykernel)",
   "language": "python",
   "name": "python3"
  },
  "language_info": {
   "codemirror_mode": {
    "name": "ipython",
    "version": 3
   },
   "file_extension": ".py",
   "mimetype": "text/x-python",
   "name": "python",
   "nbconvert_exporter": "python",
   "pygments_lexer": "ipython3",
   "version": "3.9.13"
  }
 },
 "nbformat": 4,
 "nbformat_minor": 5
}
